{
 "cells": [
  {
   "cell_type": "raw",
   "id": "86932b05-80a0-4911-9846-4e7c75a5e620",
   "metadata": {},
   "source": [
    "버블 정렬 => 앞에서부터 인접한 2개의 데이터를 비교하며 정렬한다 => 뒤쪽부터 정렬한다 -> j, j+1\n",
    "선택 정렬 => 특정 위치의 데이터를 선택해서 나머지 데이터와 비교하며 정렬한다(가장 작은 숫자를 찾아 앞으로 위치를 바꾼다) => 앞쪽부터 정렬한다 -> i, j\n",
    "삽입 정렬 => 1번 위치부터 시작해서 왼쪽과 비교하여 크면 서로 바꾼다 => 앞쪽부터 정렬한다 -> j-1, j"
   ]
  },
  {
   "cell_type": "markdown",
   "id": "c6b709a7-36ea-4b2b-8255-1237fa1645cb",
   "metadata": {},
   "source": [
    "버블 정렬(BubbleSort)"
   ]
  },
  {
   "cell_type": "code",
   "execution_count": 2,
   "id": "e657a021-4655-435b-ba7d-b3bfe48a5769",
   "metadata": {},
   "outputs": [
    {
     "name": "stdout",
     "output_type": "stream",
     "text": [
      "[2, 3, 5, 9, 10]\n"
     ]
    }
   ],
   "source": [
    "data = [3,2,9,10,5]\n",
    "for i in range(len(data)-1):\n",
    "    for j in range(len(data)-1-i):\n",
    "        if data[j] > data[j+1]:\n",
    "            data[j], data[j+1] = data[j+1], data[j]\n",
    "print(data)"
   ]
  },
  {
   "cell_type": "markdown",
   "id": "6a773283-5588-4e3d-8cf5-8f07334c6793",
   "metadata": {},
   "source": [
    "선택 정렬(SelctionSort)"
   ]
  },
  {
   "cell_type": "code",
   "execution_count": 3,
   "id": "884a9234-bd17-4182-bd76-7a07524f97aa",
   "metadata": {},
   "outputs": [
    {
     "name": "stdout",
     "output_type": "stream",
     "text": [
      "[2, 3, 5, 9, 10]\n"
     ]
    }
   ],
   "source": [
    "data = [3,2,9,10,5]\n",
    "for i in range(len(data)-1):\n",
    "    for j in range(i+1,len(data)):\n",
    "        if data[i] > data[j]:\n",
    "            data[i], data[j] = data[j], data[i]\n",
    "print(data)"
   ]
  },
  {
   "cell_type": "markdown",
   "id": "f46d5a7c-4617-4b62-9833-867bc8a2b775",
   "metadata": {},
   "source": [
    "삽입 정렬(InsertionSort)"
   ]
  },
  {
   "cell_type": "code",
   "execution_count": 4,
   "id": "980a8e05-6ffa-4fa5-a674-04a070171487",
   "metadata": {},
   "outputs": [
    {
     "name": "stdout",
     "output_type": "stream",
     "text": [
      "[1, 3, 4, 8, 9]\n"
     ]
    }
   ],
   "source": [
    "data = [8,3,4,9,1]\n",
    "for i in range(1, len(data)):\n",
    "    for j in range(i, 0, -1):\n",
    "        if data[j-1] > data[j]:\n",
    "            data[j-1], data[j] = data[j], data[j-1]\n",
    "print(data)"
   ]
  },
  {
   "cell_type": "code",
   "execution_count": null,
   "id": "b6462091-4126-4221-a048-1888fe76af04",
   "metadata": {},
   "outputs": [],
   "source": []
  },
  {
   "cell_type": "code",
   "execution_count": null,
   "id": "8d772fa0-559d-486d-aa76-61d27a33475b",
   "metadata": {},
   "outputs": [],
   "source": []
  },
  {
   "cell_type": "code",
   "execution_count": null,
   "id": "7cf2e454-22e9-4a64-bed1-968cc5f32492",
   "metadata": {},
   "outputs": [],
   "source": []
  }
 ],
 "metadata": {
  "kernelspec": {
   "display_name": "Python 3 (ipykernel)",
   "language": "python",
   "name": "python3"
  },
  "language_info": {
   "codemirror_mode": {
    "name": "ipython",
    "version": 3
   },
   "file_extension": ".py",
   "mimetype": "text/x-python",
   "name": "python",
   "nbconvert_exporter": "python",
   "pygments_lexer": "ipython3",
   "version": "3.12.1"
  }
 },
 "nbformat": 4,
 "nbformat_minor": 5
}
